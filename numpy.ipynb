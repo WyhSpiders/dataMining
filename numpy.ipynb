{
 "cells": [
  {
   "cell_type": "markdown",
   "metadata": {},
   "source": [
    "# numpy"
   ]
  },
  {
   "cell_type": "code",
   "execution_count": 2,
   "metadata": {},
   "outputs": [],
   "source": [
    "import numpy"
   ]
  },
  {
   "cell_type": "code",
   "execution_count": 9,
   "metadata": {},
   "outputs": [],
   "source": [
    "#使用numpy读取一个txt文件，去掉文件第一行\n",
    "test = numpy.genfromtxt(r'D:\\文档\\py\\dataScience\\4.3 重复值处理\\4.3\\data.csv',encoding='utf-8',delimiter=',',dtype=str,skip_header=1)"
   ]
  },
  {
   "cell_type": "code",
   "execution_count": 10,
   "metadata": {},
   "outputs": [
    {
     "data": {
      "text/plain": [
       "array([['1251147', '品牌', 'Apple'],\n",
       "       ['1251147', '商品名称', '苹果iPad mini 3'],\n",
       "       ['1251147', '商品毛重', '0.61kg'],\n",
       "       ['1251147', '商品产地', '中国'],\n",
       "       ['1251147', '品牌', 'Apple'],\n",
       "       ['1251147', '商品名称', '苹果iPad mini 3'],\n",
       "       ['1251147', '硬盘', '128G'],\n",
       "       ['1251147', '尺寸', '7.8英寸-9英寸']], dtype='<U13')"
      ]
     },
     "execution_count": 10,
     "metadata": {},
     "output_type": "execute_result"
    }
   ],
   "source": [
    "test"
   ]
  },
  {
   "cell_type": "code",
   "execution_count": 11,
   "metadata": {},
   "outputs": [
    {
     "data": {
      "text/plain": [
       "(8, 3)"
      ]
     },
     "execution_count": 11,
     "metadata": {},
     "output_type": "execute_result"
    }
   ],
   "source": [
    "#显示array的行和列，（8，3）表示8行3列\n",
    "test.shape"
   ]
  },
  {
   "cell_type": "code",
   "execution_count": 16,
   "metadata": {},
   "outputs": [],
   "source": [
    "#定义一个一维数组，定义二维数组\n",
    "vector = numpy.array([1,2,3,4])\n",
    "matrix = numpy.array([[1,2,3],[4,5,6]])"
   ]
  },
  {
   "cell_type": "code",
   "execution_count": 19,
   "metadata": {},
   "outputs": [
    {
     "name": "stdout",
     "output_type": "stream",
     "text": [
      "(4,)\n",
      "(2, 3)\n"
     ]
    }
   ],
   "source": [
    "print(vector.shape)\n",
    "print(matrix.shape)"
   ]
  },
  {
   "cell_type": "code",
   "execution_count": 22,
   "metadata": {},
   "outputs": [
    {
     "data": {
      "text/plain": [
       "dtype('int32')"
      ]
     },
     "execution_count": 22,
     "metadata": {},
     "output_type": "execute_result"
    }
   ],
   "source": [
    "#numpy中的数据类型需要保持一致\n",
    "numbers = numpy.array([1,2,3])\n",
    "numbers.dtype"
   ]
  },
  {
   "cell_type": "code",
   "execution_count": 24,
   "metadata": {},
   "outputs": [
    {
     "data": {
      "text/plain": [
       "dtype('float64')"
      ]
     },
     "execution_count": 24,
     "metadata": {},
     "output_type": "execute_result"
    }
   ],
   "source": [
    "numbers = numpy.array([1,2,3.0])\n",
    "numbers.dtype"
   ]
  },
  {
   "cell_type": "code",
   "execution_count": 26,
   "metadata": {},
   "outputs": [
    {
     "data": {
      "text/plain": [
       "dtype('<U11')"
      ]
     },
     "execution_count": 26,
     "metadata": {},
     "output_type": "execute_result"
    }
   ],
   "source": [
    "numbers = numpy.array([1,'2',3])\n",
    "numbers.dtype"
   ]
  },
  {
   "cell_type": "code",
   "execution_count": 32,
   "metadata": {},
   "outputs": [
    {
     "data": {
      "text/plain": [
       "dtype('<U32')"
      ]
     },
     "execution_count": 32,
     "metadata": {},
     "output_type": "execute_result"
    }
   ],
   "source": [
    "numbers = numpy.array([1.0,'2',3])\n",
    "numbers.dtype"
   ]
  },
  {
   "cell_type": "code",
   "execution_count": 33,
   "metadata": {},
   "outputs": [
    {
     "data": {
      "text/plain": [
       "array(['1.0'], dtype='<U32')"
      ]
     },
     "execution_count": 33,
     "metadata": {},
     "output_type": "execute_result"
    }
   ],
   "source": [
    "#取一维数组的值\n",
    "numbers[0:1]"
   ]
  },
  {
   "cell_type": "code",
   "execution_count": 30,
   "metadata": {},
   "outputs": [
    {
     "data": {
      "text/plain": [
       "array([['1251147', '品牌', 'Apple'],\n",
       "       ['1251147', '商品名称', '苹果iPad mini 3'],\n",
       "       ['1251147', '商品毛重', '0.61kg'],\n",
       "       ['1251147', '商品产地', '中国']], dtype='<U13')"
      ]
     },
     "execution_count": 30,
     "metadata": {},
     "output_type": "execute_result"
    }
   ],
   "source": [
    "#取array中的0到4行\n",
    "test[0:4]"
   ]
  },
  {
   "cell_type": "code",
   "execution_count": 35,
   "metadata": {},
   "outputs": [
    {
     "name": "stdout",
     "output_type": "stream",
     "text": [
      "Apple\n",
      "['品牌' '商品名称' '商品毛重' '商品产地' '品牌' '商品名称' '硬盘' '尺寸']\n",
      "[['1251147' '商品名称']\n",
      " ['1251147' '商品毛重']]\n"
     ]
    }
   ],
   "source": [
    "#取test中的第0行，第2列\n",
    "print(test[0,2])\n",
    "#取test中第1列\n",
    "print(test[:,1])\n",
    "#取test中的1到3行，0到2列\n",
    "print(test[1:3,0:2])"
   ]
  },
  {
   "cell_type": "code",
   "execution_count": 6,
   "metadata": {},
   "outputs": [
    {
     "name": "stdout",
     "output_type": "stream",
     "text": [
      "[False  True False False]\n",
      "[10]\n"
     ]
    }
   ],
   "source": [
    "#向量根据条件取值\n",
    "vector = numpy.array([5,10,15,20])\n",
    "vector == 10\n",
    "equal_to_ten = (vector == 10)\n",
    "print(equal_to_ten)\n",
    "print(vector[equal_to_ten])"
   ]
  },
  {
   "cell_type": "code",
   "execution_count": 8,
   "metadata": {},
   "outputs": [
    {
     "name": "stdout",
     "output_type": "stream",
     "text": [
      "[False  True False]\n",
      "[[20 25 30]]\n"
     ]
    }
   ],
   "source": [
    "#数组根据条件取对应的行\n",
    "matrix = numpy.array([\n",
    "    [5,10,15],\n",
    "    [20,25,30],\n",
    "    [35,40,45]\n",
    "])\n",
    "matrix == 25\n",
    "second_column_25 = (matrix[:,1]==25)\n",
    "print(second_column_25)\n",
    "print(matrix[second_column_25])"
   ]
  },
  {
   "cell_type": "code",
   "execution_count": 11,
   "metadata": {},
   "outputs": [
    {
     "name": "stdout",
     "output_type": "stream",
     "text": [
      "[False False False False]\n",
      "[ True  True False False]\n"
     ]
    }
   ],
   "source": [
    "#向量根据条件取值，条件之间的逻辑运算\n",
    "vector = numpy.array([5,10,15,20])\n",
    "equal_to_ten_and_five = (vector==10)&(vector==5)\n",
    "print(equal_to_ten_and_five)\n",
    "equal_to_ten_or_five = (vector==10)|(vector==5)\n",
    "print(equal_to_ten_or_five)"
   ]
  },
  {
   "cell_type": "code",
   "execution_count": 15,
   "metadata": {},
   "outputs": [
    {
     "name": "stdout",
     "output_type": "stream",
     "text": [
      "int32\n",
      "[ 5 10 15 20]\n",
      "float64\n",
      "[ 5. 10. 15. 20.]\n"
     ]
    }
   ],
   "source": [
    "#修改向量的数据类型\n",
    "vector = numpy.array([5,10,15,20])\n",
    "print(vector.dtype)\n",
    "print(vector)\n",
    "vector = vector.astype(float)\n",
    "print(vector.dtype)\n",
    "print(vector)"
   ]
  },
  {
   "cell_type": "code",
   "execution_count": 20,
   "metadata": {},
   "outputs": [
    {
     "name": "stdout",
     "output_type": "stream",
     "text": [
      "5\n",
      "20\n",
      "50\n"
     ]
    }
   ],
   "source": [
    "#向量的统计运算\n",
    "vector = numpy.array([5,10,15,20])\n",
    "print(vector.min())\n",
    "print(vector.max())\n",
    "print(vector.sum())"
   ]
  },
  {
   "cell_type": "code",
   "execution_count": 23,
   "metadata": {},
   "outputs": [
    {
     "name": "stdout",
     "output_type": "stream",
     "text": [
      "[ 30  75 120]\n",
      "[60 75 90]\n"
     ]
    }
   ],
   "source": [
    "#数组求和\n",
    "matrix = numpy.array([\n",
    "    [5,10,15],\n",
    "    [20,25,30],\n",
    "    [35,40,45]\n",
    "])\n",
    "#按行求和\n",
    "print(matrix.sum(axis=1))\n",
    "#按列求和\n",
    "print(matrix.sum(axis=0))"
   ]
  },
  {
   "cell_type": "code",
   "execution_count": 28,
   "metadata": {},
   "outputs": [
    {
     "name": "stdout",
     "output_type": "stream",
     "text": [
      "[ 0  1  2  3  4  5  6  7  8  9 10 11 12 13 14]\n",
      "[[ 0  1  2  3  4]\n",
      " [ 5  6  7  8  9]\n",
      " [10 11 12 13 14]]\n"
     ]
    },
    {
     "data": {
      "text/plain": [
       "numpy.ndarray"
      ]
     },
     "execution_count": 28,
     "metadata": {},
     "output_type": "execute_result"
    }
   ],
   "source": [
    "import numpy as np\n",
    "print(np.arange(15))\n",
    "#创建一个从0到15的向量，然后变为3行5列的数组\n",
    "a = np.arange(15).reshape(3,5)\n",
    "print(a)\n",
    "type(a)"
   ]
  },
  {
   "cell_type": "code",
   "execution_count": 35,
   "metadata": {},
   "outputs": [
    {
     "name": "stdout",
     "output_type": "stream",
     "text": [
      "(3, 5)\n",
      "2\n",
      "int32\n"
     ]
    }
   ],
   "source": [
    "#矩阵a的行和列\n",
    "print(a.shape)\n",
    "#矩阵a的维度\n",
    "print(a.ndim)\n",
    "#矩阵a的数据类型\n",
    "print(a.dtype.name)"
   ]
  },
  {
   "cell_type": "code",
   "execution_count": 37,
   "metadata": {},
   "outputs": [
    {
     "data": {
      "text/plain": [
       "array([[0., 0., 0., 0.],\n",
       "       [0., 0., 0., 0.],\n",
       "       [0., 0., 0., 0.]])"
      ]
     },
     "execution_count": 37,
     "metadata": {},
     "output_type": "execute_result"
    }
   ],
   "source": [
    "#创建一个3行4列的全是0的矩阵\n",
    "np.zeros((3,4))"
   ]
  },
  {
   "cell_type": "code",
   "execution_count": 39,
   "metadata": {},
   "outputs": [
    {
     "data": {
      "text/plain": [
       "array([[[1, 1, 1, 1],\n",
       "        [1, 1, 1, 1],\n",
       "        [1, 1, 1, 1]],\n",
       "\n",
       "       [[1, 1, 1, 1],\n",
       "        [1, 1, 1, 1],\n",
       "        [1, 1, 1, 1]]])"
      ]
     },
     "execution_count": 39,
     "metadata": {},
     "output_type": "execute_result"
    }
   ],
   "source": [
    "#创建一个全是1的三维数组\n",
    "np.ones((2,3,4),dtype=np.int32)"
   ]
  },
  {
   "cell_type": "code",
   "execution_count": 41,
   "metadata": {},
   "outputs": [
    {
     "data": {
      "text/plain": [
       "array([0. , 0.3, 0.6, 0.9, 1.2, 1.5, 1.8])"
      ]
     },
     "execution_count": 41,
     "metadata": {},
     "output_type": "execute_result"
    }
   ],
   "source": [
    "#np.arange(起始值，终点值，步长)\n",
    "np.arange(0,2,0.3)"
   ]
  },
  {
   "cell_type": "code",
   "execution_count": 43,
   "metadata": {},
   "outputs": [
    {
     "data": {
      "text/plain": [
       "array([[0.72488421, 0.60103949, 0.4549728 ],\n",
       "       [0.9993616 , 0.8308771 , 0.26292244]])"
      ]
     },
     "execution_count": 43,
     "metadata": {},
     "output_type": "execute_result"
    }
   ],
   "source": [
    "#创建一个随机数2行3列矩阵\n",
    "np.random.random((2,3))"
   ]
  },
  {
   "cell_type": "code",
   "execution_count": 45,
   "metadata": {},
   "outputs": [
    {
     "data": {
      "text/plain": [
       "array([0.        , 0.06346652, 0.12693304, 0.19039955, 0.25386607,\n",
       "       0.31733259, 0.38079911, 0.44426563, 0.50773215, 0.57119866,\n",
       "       0.63466518, 0.6981317 , 0.76159822, 0.82506474, 0.88853126,\n",
       "       0.95199777, 1.01546429, 1.07893081, 1.14239733, 1.20586385,\n",
       "       1.26933037, 1.33279688, 1.3962634 , 1.45972992, 1.52319644,\n",
       "       1.58666296, 1.65012947, 1.71359599, 1.77706251, 1.84052903,\n",
       "       1.90399555, 1.96746207, 2.03092858, 2.0943951 , 2.15786162,\n",
       "       2.22132814, 2.28479466, 2.34826118, 2.41172769, 2.47519421,\n",
       "       2.53866073, 2.60212725, 2.66559377, 2.72906028, 2.7925268 ,\n",
       "       2.85599332, 2.91945984, 2.98292636, 3.04639288, 3.10985939,\n",
       "       3.17332591, 3.23679243, 3.30025895, 3.36372547, 3.42719199,\n",
       "       3.4906585 , 3.55412502, 3.61759154, 3.68105806, 3.74452458,\n",
       "       3.8079911 , 3.87145761, 3.93492413, 3.99839065, 4.06185717,\n",
       "       4.12532369, 4.1887902 , 4.25225672, 4.31572324, 4.37918976,\n",
       "       4.44265628, 4.5061228 , 4.56958931, 4.63305583, 4.69652235,\n",
       "       4.75998887, 4.82345539, 4.88692191, 4.95038842, 5.01385494,\n",
       "       5.07732146, 5.14078798, 5.2042545 , 5.26772102, 5.33118753,\n",
       "       5.39465405, 5.45812057, 5.52158709, 5.58505361, 5.64852012,\n",
       "       5.71198664, 5.77545316, 5.83891968, 5.9023862 , 5.96585272,\n",
       "       6.02931923, 6.09278575, 6.15625227, 6.21971879, 6.28318531])"
      ]
     },
     "execution_count": 45,
     "metadata": {},
     "output_type": "execute_result"
    }
   ],
   "source": [
    "from numpy import pi\n",
    "#np.linspace(起始值，终值，总数)\n",
    "np.linspace(0,2*pi,100)"
   ]
  },
  {
   "cell_type": "code",
   "execution_count": 49,
   "metadata": {},
   "outputs": [
    {
     "name": "stdout",
     "output_type": "stream",
     "text": [
      "[20 30 40 50]\n",
      "[0 1 2 3]\n",
      "[20 29 38 47]\n",
      "[0 1 4 9]\n",
      "[ True  True False False]\n"
     ]
    }
   ],
   "source": [
    "a = np.array([20,30,40,50])\n",
    "b = np.arange(4)\n",
    "print(a)\n",
    "print(b)\n",
    "#同维度相减\n",
    "print(a-b)\n",
    "#乘方运算\n",
    "print(b**2)\n",
    "#条件判断取值\n",
    "print(a<35)"
   ]
  },
  {
   "cell_type": "code",
   "execution_count": 57,
   "metadata": {},
   "outputs": [
    {
     "name": "stdout",
     "output_type": "stream",
     "text": [
      "[[1 1]\n",
      " [0 1]]\n",
      "------------\n",
      "[[2 0]\n",
      " [3 4]]\n",
      "------------\n",
      "[[2 0]\n",
      " [0 4]]\n",
      "------------\n",
      "[[5 4]\n",
      " [3 4]]\n",
      "[[5 4]\n",
      " [3 4]]\n"
     ]
    }
   ],
   "source": [
    "A = np.array([[1,1],\n",
    "             [0,1]])\n",
    "B = np.array([[2,0],\n",
    "             [3,4]])\n",
    "print(A)\n",
    "print(\"------------\")\n",
    "print(B)\n",
    "print(\"------------\")\n",
    "#求内积，对应位置相乘\n",
    "print(A*B)\n",
    "print(\"------------\")\n",
    "#矩阵相称，A第一行的值分别乘以B第一列求和，A第二行值分别乘以B第一列求和...\n",
    "print(A.dot(B))\n",
    "print(np.dot(A,B))"
   ]
  },
  {
   "cell_type": "code",
   "execution_count": 58,
   "metadata": {},
   "outputs": [
    {
     "name": "stdout",
     "output_type": "stream",
     "text": [
      "[0 1 2]\n",
      "[1.         2.71828183 7.3890561 ]\n",
      "[0.         1.         1.41421356]\n"
     ]
    }
   ],
   "source": [
    "import numpy as np\n",
    "b = np.arange(3)\n",
    "print(b)\n",
    "#求e底b次的值\n",
    "print(np.exp(b))\n",
    "#根号b的值\n",
    "print(np.sqrt(b))"
   ]
  },
  {
   "cell_type": "code",
   "execution_count": 65,
   "metadata": {},
   "outputs": [
    {
     "name": "stdout",
     "output_type": "stream",
     "text": [
      "[[9. 7. 0. 2.]\n",
      " [3. 1. 7. 0.]\n",
      " [0. 1. 0. 9.]]\n",
      "------------------------\n",
      "[9. 7. 0. 2. 3. 1. 7. 0. 0. 1. 0. 9.]\n",
      "------------------------\n",
      "[[9. 3. 0.]\n",
      " [7. 1. 1.]\n",
      " [0. 7. 0.]\n",
      " [2. 0. 9.]]\n",
      "------------------------\n"
     ]
    }
   ],
   "source": [
    "#np.floor向下取整\n",
    "a = np.floor(10*np.random.random((3,4)))\n",
    "print(a)\n",
    "print('------------------------')\n",
    "#拼接成一行\n",
    "print(a.ravel())\n",
    "print('------------------------')\n",
    "#转置\n",
    "print(a.T)\n",
    "print('------------------------')"
   ]
  },
  {
   "cell_type": "code",
   "execution_count": 68,
   "metadata": {},
   "outputs": [
    {
     "name": "stdout",
     "output_type": "stream",
     "text": [
      "[[6. 6.]\n",
      " [4. 6.]]\n",
      "------------------------\n",
      "[[6. 5.]\n",
      " [3. 2.]]\n",
      "------------------------\n",
      "[[6. 6.]\n",
      " [4. 6.]\n",
      " [6. 5.]\n",
      " [3. 2.]]\n",
      "------------------------\n",
      "[[6. 6. 6. 5.]\n",
      " [4. 6. 3. 2.]]\n"
     ]
    }
   ],
   "source": [
    "a = np.floor(10*np.random.random((2,2)))\n",
    "b = np.floor(10*np.random.random((2,2)))\n",
    "print(a)\n",
    "print('------------------------')\n",
    "print(b)\n",
    "print('------------------------')\n",
    "#纵向拼接\n",
    "print(np.vstack((a,b)))\n",
    "print('------------------------')\n",
    "#横向拼接\n",
    "print(np.hstack((a,b)))"
   ]
  },
  {
   "cell_type": "code",
   "execution_count": 73,
   "metadata": {},
   "outputs": [
    {
     "name": "stdout",
     "output_type": "stream",
     "text": [
      "[[2. 6. 8. 8. 7. 1. 9. 0. 4. 4. 7. 7.]\n",
      " [0. 2. 5. 7. 1. 8. 7. 2. 9. 9. 5. 7.]]\n",
      "------------------------\n",
      "[array([[2., 6., 8., 8.],\n",
      "       [0., 2., 5., 7.]]), array([[7., 1., 9., 0.],\n",
      "       [1., 8., 7., 2.]]), array([[4., 4., 7., 7.],\n",
      "       [9., 9., 5., 7.]])]\n",
      "------------------------\n",
      "[array([[2., 6., 8.],\n",
      "       [0., 2., 5.]]), array([[8.],\n",
      "       [7.]]), array([[7., 1., 9., 0., 4., 4., 7., 7.],\n",
      "       [1., 8., 7., 2., 9., 9., 5., 7.]])]\n",
      "------------------------\n",
      "------------------------\n",
      "[[5. 9.]\n",
      " [3. 9.]\n",
      " [3. 2.]\n",
      " [2. 6.]\n",
      " [3. 9.]\n",
      " [9. 7.]\n",
      " [1. 9.]\n",
      " [4. 6.]\n",
      " [7. 3.]\n",
      " [4. 1.]\n",
      " [6. 5.]\n",
      " [8. 4.]]\n",
      "------------------------\n",
      "[array([[5., 9.],\n",
      "       [3., 9.],\n",
      "       [3., 2.],\n",
      "       [2., 6.]]), array([[3., 9.],\n",
      "       [9., 7.],\n",
      "       [1., 9.],\n",
      "       [4., 6.]]), array([[7., 3.],\n",
      "       [4., 1.],\n",
      "       [6., 5.],\n",
      "       [8., 4.]])]\n"
     ]
    }
   ],
   "source": [
    "a = np.floor(10*np.random.random((2,12)))\n",
    "print(a)\n",
    "print('------------------------')\n",
    "#把矩阵分成3个矩阵\n",
    "print(np.hsplit(a,3))\n",
    "print('------------------------')\n",
    "#把矩阵指定位置切片\n",
    "print(np.hsplit(a,(3,4)))\n",
    "print('------------------------')\n",
    "a = np.floor(10*np.random.random((12,2)))\n",
    "print('------------------------')\n",
    "print(a)\n",
    "print('------------------------')\n",
    "#矩阵纵向切片\n",
    "print(np.vsplit(a,3))"
   ]
  },
  {
   "cell_type": "code",
   "execution_count": 77,
   "metadata": {},
   "outputs": [
    {
     "name": "stdout",
     "output_type": "stream",
     "text": [
      "True\n",
      "(3, 4)\n",
      "2079309522144\n",
      "2079309522144\n"
     ]
    }
   ],
   "source": [
    "#使用等于，a和b指向同样的值，b改变时a也会跟着变化\n",
    "a = np.arange(12)\n",
    "b = a\n",
    "print(b is a)\n",
    "b.shape = 3,4\n",
    "print(a.shape)\n",
    "print(id(a))\n",
    "print(id(b))"
   ]
  },
  {
   "cell_type": "code",
   "execution_count": 81,
   "metadata": {},
   "outputs": [
    {
     "name": "stdout",
     "output_type": "stream",
     "text": [
      "False\n",
      "(3, 4)\n",
      "[[   0    1    2    3]\n",
      " [1234    5    6    7]\n",
      " [   8    9   10   11]]\n",
      "2079309522144\n",
      "2079309523184\n"
     ]
    }
   ],
   "source": [
    "#浅复制，修改c的shape，a不会跟着变化，修改c当中元素的值，a也会变化\n",
    "c = a.view()\n",
    "print(c is a)\n",
    "c.shape = 2,6\n",
    "print(a.shape)\n",
    "c[0,4] = 1234\n",
    "print(a)\n",
    "print(id(a))\n",
    "print(id(c))"
   ]
  },
  {
   "cell_type": "code",
   "execution_count": 84,
   "metadata": {},
   "outputs": [
    {
     "name": "stdout",
     "output_type": "stream",
     "text": [
      "False\n",
      "[[9999    1    2    3]\n",
      " [1234    5    6    7]\n",
      " [   8    9   10   11]]\n",
      "[[   0    1    2    3]\n",
      " [1234    5    6    7]\n",
      " [   8    9   10   11]]\n"
     ]
    }
   ],
   "source": [
    "#使用a的值来初始化d，d发生变化a不会变\n",
    "d = a.copy()\n",
    "print(d is a)\n",
    "d[0,0] = 9999\n",
    "print(d)\n",
    "print(a)"
   ]
  },
  {
   "cell_type": "code",
   "execution_count": 88,
   "metadata": {},
   "outputs": [
    {
     "name": "stdout",
     "output_type": "stream",
     "text": [
      "[[ 0.          0.84147098  0.90929743  0.14112001]\n",
      " [-0.7568025  -0.95892427 -0.2794155   0.6569866 ]\n",
      " [ 0.98935825  0.41211849 -0.54402111 -0.99999021]\n",
      " [-0.53657292  0.42016704  0.99060736  0.65028784]\n",
      " [-0.28790332 -0.96139749 -0.75098725  0.14987721]]\n",
      "[2 0 3 1]\n",
      "[0.98935825 0.84147098 0.99060736 0.6569866 ]\n"
     ]
    }
   ],
   "source": [
    "data = np.sin(np.arange(20).reshape(5,4))\n",
    "print(data)\n",
    "#按列找出最大值的索引\n",
    "ind = data.argmax(axis=0)\n",
    "print(ind)\n",
    "#取出每一列最大值\n",
    "data_max = data[ind,range(data.shape[1])]\n",
    "print(data_max)"
   ]
  },
  {
   "cell_type": "code",
   "execution_count": 93,
   "metadata": {},
   "outputs": [
    {
     "name": "stdout",
     "output_type": "stream",
     "text": [
      "[ 0 10 20 30]\n",
      "[[ 0 10 20 30  0 10 20 30  0 10 20 30  0 10 20 30  0 10 20 30]\n",
      " [ 0 10 20 30  0 10 20 30  0 10 20 30  0 10 20 30  0 10 20 30]\n",
      " [ 0 10 20 30  0 10 20 30  0 10 20 30  0 10 20 30  0 10 20 30]]\n"
     ]
    }
   ],
   "source": [
    "a = np.arange(0,40,10)\n",
    "print(a)\n",
    "#把a复制成3行5列的矩阵\n",
    "b = np.tile(a,(3,5))\n",
    "print(b)"
   ]
  },
  {
   "cell_type": "code",
   "execution_count": 102,
   "metadata": {},
   "outputs": [
    {
     "name": "stdout",
     "output_type": "stream",
     "text": [
      "[[4 3 5]\n",
      " [1 2 1]]\n",
      "------------------------\n",
      "[[3 4 5]\n",
      " [1 1 2]]\n",
      "------------------------\n",
      "[[3 4 5]\n",
      " [1 1 2]]\n",
      "------------------------\n",
      "[2 3 1 0]\n",
      "[1 2 3 4]\n"
     ]
    }
   ],
   "source": [
    "a = np.array([[4,3,5],[1,2,1]])\n",
    "print(a)\n",
    "print('------------------------')\n",
    "#按行进行排序\n",
    "b = np.sort(a,axis=1)\n",
    "print(b)\n",
    "print('------------------------')\n",
    "#在原矩阵上按行进行排序\n",
    "a.sort(axis=1)\n",
    "print(a)\n",
    "print('------------------------')\n",
    "a = np.array([4,3,1,2])\n",
    "#排序的索引值\n",
    "j = np.argsort(a)\n",
    "print(j)\n",
    "print(a[j])"
   ]
  }
 ],
 "metadata": {
  "kernelspec": {
   "display_name": "Python 3",
   "language": "python",
   "name": "python3"
  },
  "language_info": {
   "codemirror_mode": {
    "name": "ipython",
    "version": 3
   },
   "file_extension": ".py",
   "mimetype": "text/x-python",
   "name": "python",
   "nbconvert_exporter": "python",
   "pygments_lexer": "ipython3",
   "version": "3.6.4"
  },
  "widgets": {
   "application/vnd.jupyter.widget-state+json": {
    "state": {},
    "version_major": 2,
    "version_minor": 0
   }
  }
 },
 "nbformat": 4,
 "nbformat_minor": 2
}
